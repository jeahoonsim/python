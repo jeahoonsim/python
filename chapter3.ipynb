{
 "cells": [
  {
   "cell_type": "markdown",
   "id": "b848b7f4-9875-4f8d-b566-e6a296363b72",
   "metadata": {},
   "source": [
    "+는 더하기\n",
    "-는 빼기\n",
    "*는 곱하기\n",
    "/는 나누기\n",
    "//는 나누기(몫)\n",
    "%는 나누기(나머지 값)\n",
    "**는 제곱"
   ]
  },
  {
   "cell_type": "code",
   "execution_count": 1,
   "id": "201d6289-bfd0-4f4e-b38d-c2b17b7028b8",
   "metadata": {},
   "outputs": [
    {
     "name": "stdout",
     "output_type": "stream",
     "text": [
      "350\n"
     ]
    }
   ],
   "source": [
    "n1 = 200\n",
    "n2 = 150\n",
    "res = n1+n2\n",
    "print(res)"
   ]
  },
  {
   "cell_type": "code",
   "execution_count": 2,
   "id": "cf8c5a80-8518-405e-8799-0462f52342ae",
   "metadata": {},
   "outputs": [
    {
     "name": "stdout",
     "output_type": "stream",
     "text": [
      "50\n"
     ]
    }
   ],
   "source": [
    "res = n1 - n2\n",
    "print(res)"
   ]
  },
  {
   "cell_type": "code",
   "execution_count": 3,
   "id": "9e22c24e-93d6-4cae-ab45-0df629f53db9",
   "metadata": {},
   "outputs": [
    {
     "name": "stdout",
     "output_type": "stream",
     "text": [
      "30000\n"
     ]
    }
   ],
   "source": [
    "res = n1 * n2\n",
    "print(res)"
   ]
  },
  {
   "cell_type": "code",
   "execution_count": 4,
   "id": "d4e9180d-5de9-45b4-ba6e-14496513a65a",
   "metadata": {},
   "outputs": [
    {
     "name": "stdout",
     "output_type": "stream",
     "text": [
      "1.3333333333333333\n"
     ]
    }
   ],
   "source": [
    "res = n1 / n2\n",
    "print(res)"
   ]
  },
  {
   "cell_type": "code",
   "execution_count": 5,
   "id": "c4dc0cfd-a903-4948-b95d-41ea722233f3",
   "metadata": {},
   "outputs": [
    {
     "name": "stdout",
     "output_type": "stream",
     "text": [
      "2\n"
     ]
    }
   ],
   "source": [
    "a,b,c =3,4,5\n",
    "print(a+b-c)"
   ]
  },
  {
   "cell_type": "code",
   "execution_count": 6,
   "id": "6dde2fb7-4254-4712-9436-772c4549daa3",
   "metadata": {},
   "outputs": [
    {
     "name": "stdout",
     "output_type": "stream",
     "text": [
      "2\n"
     ]
    }
   ],
   "source": [
    "print(a-c+b)"
   ]
  },
  {
   "cell_type": "code",
   "execution_count": 7,
   "id": "b84afb4c-6f60-4f2d-bf17-93333e453e5b",
   "metadata": {},
   "outputs": [
    {
     "name": "stdout",
     "output_type": "stream",
     "text": [
      "2\n"
     ]
    }
   ],
   "source": [
    "print(-c+a+b)"
   ]
  },
  {
   "cell_type": "markdown",
   "id": "077223de-d6f5-44d2-a72f-2c67d9fb62d8",
   "metadata": {},
   "source": [
    "더하기와 빼기는 순서를 바꿔도 동일한 결과값을 출력\n",
    "더하기와 빼기가 나오면 계산 순서는 앞에서 뒤로 계산"
   ]
  },
  {
   "cell_type": "code",
   "execution_count": 8,
   "id": "b642402f-4581-4f5d-a99a-d658f8ae96e1",
   "metadata": {},
   "outputs": [
    {
     "name": "stdout",
     "output_type": "stream",
     "text": [
      "3.0\n"
     ]
    }
   ],
   "source": [
    "a,b,c = 2,4,6\n",
    "print(a/b*c)"
   ]
  },
  {
   "cell_type": "code",
   "execution_count": 9,
   "id": "56f207d1-5296-49a5-b07c-714175c74960",
   "metadata": {},
   "outputs": [
    {
     "name": "stdout",
     "output_type": "stream",
     "text": [
      "3.0\n"
     ]
    }
   ],
   "source": [
    "print(a*c/b)"
   ]
  },
  {
   "cell_type": "code",
   "execution_count": 10,
   "id": "2ca472dd-7984-43bc-bff4-df36af12b1ba",
   "metadata": {},
   "outputs": [
    {
     "name": "stdout",
     "output_type": "stream",
     "text": [
      "3.0\n"
     ]
    }
   ],
   "source": [
    "print(c/b*a)"
   ]
  },
  {
   "cell_type": "markdown",
   "id": "26ac892c-b8cb-4735-ad18-c7c6fb6ba004",
   "metadata": {},
   "source": [
    "곱하기와 나누기는 순서를 바꿔도 동일한 결과값을 출력 곱하기와 나누기가 나오면 계산 순서는 앞에서 뒤로 계산"
   ]
  },
  {
   "cell_type": "code",
   "execution_count": 12,
   "id": "1d72be46-0ed6-4a30-acbe-4c2dfbb9b1ad",
   "metadata": {},
   "outputs": [
    {
     "name": "stdout",
     "output_type": "stream",
     "text": [
      "17\n"
     ]
    }
   ],
   "source": [
    "a,b,c = 3,4,5\n",
    "print(a*b+c)"
   ]
  },
  {
   "cell_type": "code",
   "execution_count": 16,
   "id": "eb586a01-5fef-4935-a0bf-8717bd1844ad",
   "metadata": {},
   "outputs": [
    {
     "name": "stdout",
     "output_type": "stream",
     "text": [
      "17\n"
     ]
    }
   ],
   "source": [
    "print(c+a*b)"
   ]
  },
  {
   "cell_type": "markdown",
   "id": "7c961f64-eacb-476c-b99e-ffc492e82cd1",
   "metadata": {},
   "source": [
    "더하기와 곱하기가 같이 나왔을 경우\n",
    "a,b,c = 3,4,5\n",
    "print(a*b+c)\n",
    "첫번째 수식은 순서대로 계산하여 잘 계산되었지만\n",
    "print(c+a*b)\n",
    "두번쨰 수식은 32가 나와야 하지만 둘다 똑같은 17이 출력됨\n",
    "그 이유는 더하기와 곱하기가 같이나오면 곱하기가 먼저 계산 된후 더하기가 계산 되기 때문\n",
    "그래서 두번째 수식 같은 경우 계산 순서가 왼쪽에서 오른쪽이 오른쪽에서 왼쪽으로 계산이 진행"
   ]
  },
  {
   "cell_type": "code",
   "execution_count": 17,
   "id": "4fc42d31-45c1-4d2c-9021-08774c9f83d7",
   "metadata": {},
   "outputs": [
    {
     "name": "stdout",
     "output_type": "stream",
     "text": [
      "1 2\n"
     ]
    }
   ],
   "source": [
    "q = 5//3\n",
    "r = 5%3\n",
    "print(q,r)"
   ]
  },
  {
   "cell_type": "code",
   "execution_count": 18,
   "id": "cdbe5ea7-7945-446b-936b-ea99ea0fac23",
   "metadata": {},
   "outputs": [
    {
     "name": "stdout",
     "output_type": "stream",
     "text": [
      "125\n"
     ]
    }
   ],
   "source": [
    "num = 5**3\n",
    "print(num)"
   ]
  },
  {
   "cell_type": "code",
   "execution_count": null,
   "id": "2099afe7-e0d1-41f4-a9e7-e2af6b9b0eed",
   "metadata": {},
   "outputs": [],
   "source": [
    "num1 = int(input(\"나눠지는 수==>\"))\n",
    "num2 = int(input(\"나누는 수==>\"))\n",
    "q = num1 //num2\n",
    "r = num1 % num2\n",
    "print(num1,'을()를',num2 ,'(으)로 나눈 몫은',q,'입니다')\n",
    "print(num1,'을()를',num2, '(으)로 나눈 나머지는',r,'입니다')"
   ]
  },
  {
   "cell_type": "code",
   "execution_count": 27,
   "id": "1e5c4830-d3bc-43bc-b6ad-1c96cd470b32",
   "metadata": {},
   "outputs": [
    {
     "name": "stdin",
     "output_type": "stream",
     "text": [
      "파운드(1b)를 입력하세요 :  15\n"
     ]
    },
    {
     "name": "stdout",
     "output_type": "stream",
     "text": [
      "15 파운드(1b)는 6.8038799999999995 킬로그램(kb)입니다\n"
     ]
    }
   ],
   "source": [
    "ponud = int(input(\"파운드(1b)를 입력하세요 : \"))\n",
    "kg = ponud * 0.453592\n",
    "print(ponud,\"파운드(1b)는\",kg,\"킬로그램(kb)입니다\")"
   ]
  },
  {
   "cell_type": "code",
   "execution_count": 26,
   "id": "57ec6c20-0049-4599-b5b8-76dbdb828c72",
   "metadata": {},
   "outputs": [
    {
     "name": "stdin",
     "output_type": "stream",
     "text": [
      "킬로그램(kg)를 입력하세요 :  15\n"
     ]
    },
    {
     "name": "stdout",
     "output_type": "stream",
     "text": [
      "15 킬로그램(kg)는 33.069345000000006 파운드(1b)입니다\n"
     ]
    }
   ],
   "source": [
    "kg = int(input(\"킬로그램(kg)를 입력하세요 : \"))\n",
    "ponud = kg * 2.204623\n",
    "print(kg,\"킬로그램(kg)는\",ponud,\"파운드(1b)입니다\")"
   ]
  },
  {
   "cell_type": "markdown",
   "id": "a69715d9-aeeb-4275-9007-44d06479ab6a",
   "metadata": {},
   "source": [
    "num = 100\n",
    "num = 100 * 200\n",
    "num = int(\"100\") + int(\"200\")\n",
    "대입 연산자는 오른쪽 값이나 계산 결과를 왼쪽으로 대입 하라는 의미로 '='얀산자가 기지 기본 적인 대입 연산자이다.\n",
    "위의 코드는 모두 똑같은 결과 값이 나온느 코드들이다.\n",
    "대입 연산자는 무조건 오른쪽이 먼저 계산되고 결과1개 가 왼쪽으로 들어간다.\n",
    "여기서 =를 기준으로 오른쪽은 숫자 , 수식, 문자열,계산식 등 문법이 틀리지 않았다면 무엇이든 와도 실행 가능\n",
    "하지만 왼쪽은 무조건 변수 1개만 와야한다 그래야지만 오른쪽의 결과가 왼쪽에 들어 갈수 있다."
   ]
  },
  {
   "cell_type": "markdown",
   "id": "11e27f39-d85d-41ad-b4f4-d50e765fd6f1",
   "metadata": {},
   "source": [
    "num1,num2 = 100,200\n",
    "num1,num2 = 100*200,100+200\n",
    "num1,num2 = int(\"100\"),100//5\n",
    "\n",
    ",(콤마)로 분리하여 왼쪽에 변수2개 이상이 나올수도 있습니다. 그런 경우 오른쪽에도 반드시 콤마로 분리된 2개의 숫자,문자열,수식이 와야한다\n",
    "이것을 연속 대입 연산자라고 한다\n",
    "연속 대입 연산자는 2개뿐이 아니라 3개이상도 가능하다\n",
    "\n",
    "num1,num2,num3 = 100,200\n",
    "num1,num2 = 100\n",
    "num1 = 100,200\n",
    "이코드들은 특수한 경우들도 비정상적인 대입인 경우이다\n",
    "하지만 3번째 코드는 실해해도 오류가 나지 않는다 그이유는 튜플로 변환하여 들어가기 떄문입니다"
   ]
  },
  {
   "cell_type": "code",
   "execution_count": 28,
   "id": "e6fa086e-02fc-492d-88c9-c1c573487587",
   "metadata": {},
   "outputs": [
    {
     "name": "stdout",
     "output_type": "stream",
     "text": [
      "300\n"
     ]
    }
   ],
   "source": [
    "num1 = 100\n",
    "num1 = num1 + 200\n",
    "print(num1)"
   ]
  },
  {
   "cell_type": "markdown",
   "id": "94272eb2-5d87-44d9-982a-f179ffa40261",
   "metadata": {},
   "source": [
    "위의 코드의 경우는 자신과 값을 계산한 후 다시 자신에게 대입시킨 경우이다\n",
    "순서는 오른쪽이 먼저 계산이 된 후 결과 200이 왼쪽에 들어간다\n",
    "왼쪽에 들어가는 변수가 자신이기 떄문에 결국 100 + 200이 되어 결과는 300이 된다"
   ]
  },
  {
   "cell_type": "code",
   "execution_count": 29,
   "id": "11c6f9e5-faf9-4960-84e9-80115cd8568b",
   "metadata": {},
   "outputs": [
    {
     "name": "stdout",
     "output_type": "stream",
     "text": [
      "300\n"
     ]
    }
   ],
   "source": [
    "num1 = 100\n",
    "num1 += 200\n",
    "print(num1)"
   ]
  },
  {
   "cell_type": "markdown",
   "id": "b289058f-38fa-452c-b6aa-1acbd57f6975",
   "metadata": {},
   "source": [
    "복합 대입 연산자는 += , -= , *= , /= , //= , **= , %=등이 있다.\n",
    "+=는 num = num + 3과 동일\n",
    "-=는 num = num - 3과 동일\n",
    "*=는 num = num * 3과 동일\n",
    "/=는 num = num / 3과 동일\n",
    "//=는 num = num // 3과 동일\n",
    "**=는 num = num ** 3과 동일\n",
    "%=는 num = num % 3과 동일"
   ]
  },
  {
   "cell_type": "code",
   "execution_count": 31,
   "id": "3d8caed8-c3ba-488f-8c80-4ce946b5b0a5",
   "metadata": {},
   "outputs": [
    {
     "name": "stdout",
     "output_type": "stream",
     "text": [
      "23\n",
      "20\n",
      "60\n",
      "20.0\n",
      "6.0\n",
      "216.0\n",
      "0.0\n"
     ]
    }
   ],
   "source": [
    "num = 20\n",
    "num += 3; print(num)\n",
    "\n",
    "num -= 3; print(num)\n",
    "\n",
    "num *= 3; print(num)\n",
    "\n",
    "num /= 3; print(num)\n",
    "\n",
    "num //= 3; print(num)\n",
    "\n",
    "num **= 3; print(num)\n",
    "\n",
    "num %= 3; print(num)"
   ]
  },
  {
   "cell_type": "code",
   "execution_count": 33,
   "id": "796dfa33-a6cb-4b66-a474-bd9e9e318838",
   "metadata": {},
   "outputs": [
    {
     "name": "stdout",
     "output_type": "stream",
     "text": [
      "오늘 총 매출액은 : 11600 원 입니다\n"
     ]
    }
   ],
   "source": [
    "total = 0\n",
    "total -= 900 * 10\n",
    "total -= 3500 * 5\n",
    "total += 1800 * 2\n",
    "total += 4000 * 4\n",
    "total += 1500\n",
    "total += 2000 * 4\n",
    "total += 1800 * 5\n",
    "print(\"오늘 총 매출액은 :\",total,\"원 입니다\")"
   ]
  },
  {
   "cell_type": "markdown",
   "id": "776d7f13-0d90-46bd-919f-bd968ad9f52b",
   "metadata": {},
   "source": [
    "비교 연산자(관계연산자)는 어떤것이 큰지,직은지,같은지를 비교하는것으로 그결과는 참(true)이나 거짓(false)이 사용한다\n",
    "비교 연산자를 단독으로 사용하는 경우는 거의 없으며 조건문이나 반복문과 함꼐 사용한다\n",
    "비교 연산자의 결과는 yes 또는 참(true)과 no 또는 거짓(false)로 표시 됨\n",
    "((ex\n",
    "  100<200을 예로 들면 100아 200보다 적기 떄문에 보기의 결과는 참(true)가 된다\n",
    "  반대로 예를 든다면 100은 200보다 크지 않기 때문에 보기의 결과는 거짓(false)\n",
    "  "
   ]
  },
  {
   "cell_type": "code",
   "execution_count": 36,
   "id": "d9fe9e33-b2bb-4cfd-a8d0-dc205136f316",
   "metadata": {},
   "outputs": [
    {
     "name": "stdin",
     "output_type": "stream",
     "text": [
      "필기 시험 점수를 입력하세요 ==> 80\n"
     ]
    },
    {
     "name": "stdout",
     "output_type": "stream",
     "text": [
      "True\n"
     ]
    }
   ],
   "source": [
    "score = int(input(\"필기 시험 점수를 입력하세요 ==>\"))\n",
    "print(score >= 70)"
   ]
  },
  {
   "cell_type": "markdown",
   "id": "e9ad2056-01bf-4002-9804-3ae0cd798691",
   "metadata": {},
   "source": [
    "비교 연산자(관계연산자)는 ==,!=,<,>,<=,>=등이 있다\n",
    "'=='는 두깂아 동일 하면 true (같다)\n",
    "'!='는 두값이 다르면 true (같지 않다)\n",
    "'<'는 왼쪽이 크면 true (크다)\n",
    "'>'는 오른쪽이 크면 true (작다)\n",
    "'<='는 왼쪽이 같거나 크면 true (크거나 같다)\n",
    "'>='는 왼쪽이 작거나 같으면 true (작거나 같다)"
   ]
  },
  {
   "cell_type": "code",
   "execution_count": 37,
   "id": "a4eb6e9c-7c7d-458f-835f-24059ce29cae",
   "metadata": {},
   "outputs": [
    {
     "name": "stdout",
     "output_type": "stream",
     "text": [
      "False True\n",
      "False True\n",
      "False True\n"
     ]
    }
   ],
   "source": [
    "n1 = 100 \n",
    "n2 = 200\n",
    "print(n1 == n2 , n1 != n2)\n",
    "print(n1 > n2 , n1 < n2)\n",
    "print(n1 >= n2 , n1 <= n1)\n"
   ]
  },
  {
   "cell_type": "markdown",
   "id": "9cd8ad4f-c65c-4c07-ba7c-e5984a7b617f",
   "metadata": {},
   "source": [
    "논리 연산자란 비교 연산자가 여러번 필요할때 사용된다. 종류로는 AND(그리고) , OR(또는) , NOT(부정) 3가지가 있습니다. num변수의 값이 10과20 사이에 있어야 한다고 예을 들면 \n",
    "num은 10 보다 커야 한다 or num은 20보다 작아야 한다는 두 조건을 만족 해야 한다. 위의 조건에서 중요한 점은 \"그리고\" 입니다 num이 10 과 20 사이에 있으려면 두 조건에 모두 만족해야 하기에 num은 10 보다 커야 한다도 참(true)여야 하고 num은 20 보다 작아야 한다도 참(true)여야 한다 이를 코드로 표현 하면 (num > 10) and (num < 20)으로 나타 낼수 있다.\n",
    "\n",
    "AND은 둘다 참이여야만 참(true)\n",
    "OR은 둘중 하나만 참이여도 참(true)\n",
    "NOT은 참(true)이면 거짓(false)이고 거짓(false)이면 참(true)"
   ]
  },
  {
   "cell_type": "code",
   "execution_count": 4,
   "id": "fdf6efff-57b2-492a-820b-a6cc1a734382",
   "metadata": {},
   "outputs": [
    {
     "data": {
      "text/plain": [
       "False"
      ]
     },
     "execution_count": 4,
     "metadata": {},
     "output_type": "execute_result"
    }
   ],
   "source": [
    "num = 99 \n",
    "(num > 100) and (num < 200)\n"
   ]
  },
  {
   "cell_type": "code",
   "execution_count": 2,
   "id": "1637b116-7106-4a62-8cb1-6b51c0569278",
   "metadata": {},
   "outputs": [
    {
     "data": {
      "text/plain": [
       "True"
      ]
     },
     "execution_count": 2,
     "metadata": {},
     "output_type": "execute_result"
    }
   ],
   "source": [
    "(num == 99) or (num == 100)"
   ]
  },
  {
   "cell_type": "code",
   "execution_count": 3,
   "id": "08ea9c23-cb37-47d9-b1dc-fe9519dc3cfd",
   "metadata": {},
   "outputs": [
    {
     "data": {
      "text/plain": [
       "True"
      ]
     },
     "execution_count": 3,
     "metadata": {},
     "output_type": "execute_result"
    }
   ],
   "source": [
    "not(num == 100)"
   ]
  },
  {
   "cell_type": "markdown",
   "id": "13f4fbf3-ba9d-4fc1-be5a-1d1163b5eb12",
   "metadata": {},
   "source": [
    "위 3개의 코드의 해석은 \n",
    "(num > 100) and (num < 200) : num이 100 과 200 사이에 있는지를 묻고 있다 즉 num이 100보다 크고 그리고 200보다 작은가?를 묻는 코드이다 \n",
    "                            하지만 num은 99이기 때문에 (num > 100)(거짓) , (num < 200)(참)이 된다 and는 2개의 조건이 모두 만족 되어야 하기에 이코드는 거짓이다\n",
    "\n",
    "(num == 99) or (num == 100) : num은 99여도 괜찮고 100이여도 된다. 즉 둘중에 하나의 조건만 만족해도 참이 된다 (num == 99)(참) , (num == 100)(거짓)이 되기 떄문에 이\n",
    "                                코드는 참이다\n",
    "\n",
    "not(num == 100) : 이코드는 부정문이기 때문에 거짓이면 참이된다는 특징이 있다 코드에서 num은 99로 (num == 100)은 거짓이 되지만 부정문이기 때문에 참이 된다"
   ]
  },
  {
   "cell_type": "markdown",
   "id": "ba72ed12-06c4-431a-a633-38a6ca0a7199",
   "metadata": {},
   "source": [
    "연산자의 우선 순위는 \n",
    "() , [] , {}등의 괄호,리스트,딕셔너리,세트 등이 1번째 이고 \n",
    "** 제곱이 2번쨰\n",
    "+ , - , ~ 단항 연산자가 3번째(단항 연산자의 + , - 는 숫자나 변수 앞에 붙는 부호의 의미를 갖는다)\n",
    "* , / , % , // 등의 산술 연산자가 4번쨰\n",
    "+ , - 의 단순 산술 연산자가 5번쨰\n",
    "<< , >>의 비트 시프트 연산자가 6번째\n",
    "& 는 비트 논리곱으로 7번쨰이고\n",
    "^ 는 비트 베타적 논리합으로 8번쨰\n",
    "| 는 비트 논리합으로 9번쨰\n",
    "< , > , >= , <= 은 관계 연산자로 10번쨰\n",
    "== , !=는 동등 연산자로 11번쨰\n",
    "= , %= , /= , //= , -= , += , *= , **= 등의 대입 연산자가 12번째\n",
    "not 부정문이 논리 연산자에서 1번쨰 전체 순서로는 13번쨰\n",
    "and 논리 연산자에서는 2번째 전체에서는 14번쨰\n",
    "or 논이 연산문에서 3번째 전체에서 15번쨰\n",
    "if ~ else 비교식으로 16번째이다"
   ]
  },
  {
   "cell_type": "code",
   "execution_count": 5,
   "id": "0bfc238f-7515-4b5b-a25e-3624655bfeb4",
   "metadata": {},
   "outputs": [
    {
     "name": "stdout",
     "output_type": "stream",
     "text": [
      "평균 학점 :  3.8333333333333335\n"
     ]
    }
   ],
   "source": [
    "python = 3\n",
    "mobile = 2\n",
    "excel = 1\n",
    "\n",
    "A = 4.5\n",
    "A0 = 4.0\n",
    "B = 3.5\n",
    "\n",
    "avg = ((python * B) + (mobile * A0) + (excel * A)) / (python + mobile + excel)\n",
    "print(\"평균 학점 : \",avg)"
   ]
  },
  {
   "cell_type": "code",
   "execution_count": null,
   "id": "14c98374-b97d-4278-b493-b4d3cc39e916",
   "metadata": {},
   "outputs": [],
   "source": []
  }
 ],
 "metadata": {
  "kernelspec": {
   "display_name": "Python [conda env:base] *",
   "language": "python",
   "name": "conda-base-py"
  },
  "language_info": {
   "codemirror_mode": {
    "name": "ipython",
    "version": 3
   },
   "file_extension": ".py",
   "mimetype": "text/x-python",
   "name": "python",
   "nbconvert_exporter": "python",
   "pygments_lexer": "ipython3",
   "version": "3.12.2"
  }
 },
 "nbformat": 4,
 "nbformat_minor": 5
}
