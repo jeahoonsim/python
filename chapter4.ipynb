{
 "cells": [
  {
   "cell_type": "markdown",
   "id": "67965722-872c-41b6-842e-11ffad42168c",
   "metadata": {},
   "source": [
    "데이터형이란 변수나 상수의 종류을 의미합니다. 그릇의 용도에 따라 국그릇,밥그릇,냄비 등이 있는 것처럼변수의 종류도 다양합니다.\n",
    "가장많이 사용하는 데이터형은 정수형 , 실수형 , 문자열형 , 불형 등 4가지가 있습니다."
   ]
  },
  {
   "cell_type": "markdown",
   "id": "d6d6a826-b8ba-41ca-9372-f7383596cbba",
   "metadata": {},
   "source": [
    "var1 = 100\n",
    "var2 = 3.14\n",
    "var3 = \"파이썬\"\n",
    "var4 = true\n",
    "\n",
    "var1은 100 이라는 소수점이 없는 데이터형인 정수(integer)를 대입했습니다. 그러므로 var1은 정수형 변수가 된다.\n",
    "var2은 소수점이 있는 데이터형인 실수(Float)를 대입해서 var2는 실수형 변수가 된다.\n",
    "var3은 문자열(string)데이터형을 대입하여 문자열형 변수가 된다.\n",
    "var4은 불(bool)형 데이터를 대입하여 불형 변수가 된다."
   ]
  },
  {
   "cell_type": "code",
   "execution_count": 2,
   "id": "8290feb6-1b10-4b40-a6a0-ebd203c91eb4",
   "metadata": {},
   "outputs": [
    {
     "data": {
      "text/plain": [
       "int"
      ]
     },
     "execution_count": 2,
     "metadata": {},
     "output_type": "execute_result"
    }
   ],
   "source": [
    "var1 = 100\n",
    "type(var1)"
   ]
  },
  {
   "cell_type": "markdown",
   "id": "ed643d10-5403-4557-98a4-0863a5cfd101",
   "metadata": {},
   "source": [
    "결과를 보면 <class 'int'>라고 나왔다 class는 일단 무시하고 int는 integer의 약자로 정수라는 의미이다. "
   ]
  },
  {
   "cell_type": "code",
   "execution_count": 3,
   "id": "e602798e-c5a3-4181-852d-cf550c4ff77f",
   "metadata": {},
   "outputs": [
    {
     "data": {
      "text/plain": [
       "float"
      ]
     },
     "execution_count": 3,
     "metadata": {},
     "output_type": "execute_result"
    }
   ],
   "source": [
    "var2 = 3.14\n",
    "type(var2)"
   ]
  },
  {
   "cell_type": "code",
   "execution_count": 4,
   "id": "252dabca-834c-434b-a5c1-8bc81e0b5a0d",
   "metadata": {},
   "outputs": [
    {
     "data": {
      "text/plain": [
       "str"
      ]
     },
     "execution_count": 4,
     "metadata": {},
     "output_type": "execute_result"
    }
   ],
   "source": [
    "var3 = \"파이썬\"\n",
    "type(var3)"
   ]
  },
  {
   "cell_type": "code",
   "execution_count": 6,
   "id": "72a0dc26-8044-4cda-9190-9c4bd9713043",
   "metadata": {},
   "outputs": [
    {
     "data": {
      "text/plain": [
       "bool"
      ]
     },
     "execution_count": 6,
     "metadata": {},
     "output_type": "execute_result"
    }
   ],
   "source": [
    "var4 = True\n",
    "type(var4)"
   ]
  },
  {
   "cell_type": "markdown",
   "id": "720eb3ba-91c3-430b-91e5-d3a2cbc57d36",
   "metadata": {},
   "source": [
    "변수형은 고정되지 않고 데이터형을 넣을때마다 변경된다. "
   ]
  },
  {
   "cell_type": "code",
   "execution_count": 7,
   "id": "466c4b5d-1487-4e4f-aaeb-d3086e5f8a73",
   "metadata": {},
   "outputs": [
    {
     "data": {
      "text/plain": [
       "int"
      ]
     },
     "execution_count": 7,
     "metadata": {},
     "output_type": "execute_result"
    }
   ],
   "source": [
    "type(var1)"
   ]
  },
  {
   "cell_type": "code",
   "execution_count": 8,
   "id": "80d512de-3ca2-4a27-b285-94f4ca7a92a6",
   "metadata": {},
   "outputs": [
    {
     "data": {
      "text/plain": [
       "str"
      ]
     },
     "execution_count": 8,
     "metadata": {},
     "output_type": "execute_result"
    }
   ],
   "source": [
    "var1 = \"hello\"\n",
    "type(var1)"
   ]
  },
  {
   "cell_type": "code",
   "execution_count": null,
   "id": "f5132768-dbd4-467a-90bd-5a188452c401",
   "metadata": {},
   "outputs": [],
   "source": []
  }
 ],
 "metadata": {
  "kernelspec": {
   "display_name": "Python [conda env:base] *",
   "language": "python",
   "name": "conda-base-py"
  },
  "language_info": {
   "codemirror_mode": {
    "name": "ipython",
    "version": 3
   },
   "file_extension": ".py",
   "mimetype": "text/x-python",
   "name": "python",
   "nbconvert_exporter": "python",
   "pygments_lexer": "ipython3",
   "version": "3.12.2"
  }
 },
 "nbformat": 4,
 "nbformat_minor": 5
}
