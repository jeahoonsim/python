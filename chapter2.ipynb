{
 "cells": [
  {
   "cell_type": "code",
   "execution_count": 1,
   "id": "5e8ce9f1-6673-4f7b-b56d-6aab9e2c39d4",
   "metadata": {},
   "outputs": [
    {
     "name": "stdout",
     "output_type": "stream",
     "text": [
      "300\n"
     ]
    }
   ],
   "source": [
    "print(100+200)"
   ]
  },
  {
   "cell_type": "markdown",
   "id": "184e3632-d8d2-4691-bbe0-affb5e00c667",
   "metadata": {},
   "source": [
    "a=100\n",
    "b=200\n",
    "아무것도 안나옴"
   ]
  },
  {
   "cell_type": "code",
   "execution_count": 2,
   "id": "617a5da5-7058-42ba-bad7-d494bd5bb9cc",
   "metadata": {},
   "outputs": [
    {
     "name": "stdout",
     "output_type": "stream",
     "text": [
      "300\n"
     ]
    }
   ],
   "source": [
    "a=100\n",
    "b=200\n",
    "c=a+b\n",
    "print(c)"
   ]
  },
  {
   "cell_type": "code",
   "execution_count": 3,
   "id": "b7f51f95-fc44-4ddd-9e5c-bd1195a4c38c",
   "metadata": {},
   "outputs": [
    {
     "name": "stdout",
     "output_type": "stream",
     "text": [
      "100 + 200 = 300\n"
     ]
    }
   ],
   "source": [
    "print(a,\"+\",b,\"=\",c)"
   ]
  },
  {
   "cell_type": "code",
   "execution_count": 6,
   "id": "7575c74a-920d-4657-96c2-493e92ceb746",
   "metadata": {},
   "outputs": [
    {
     "name": "stdout",
     "output_type": "stream",
     "text": [
      "150\n"
     ]
    }
   ],
   "source": [
    "num1 = 100\n",
    "num2 = 50\n",
    "result = num1 + num2\n",
    "print(result) "
   ]
  },
  {
   "cell_type": "code",
   "execution_count": 7,
   "id": "232029e3-3852-408c-a522-820c560f4f4e",
   "metadata": {},
   "outputs": [
    {
     "name": "stdout",
     "output_type": "stream",
     "text": [
      "300\n"
     ]
    }
   ],
   "source": [
    "result = num1 + 200\n",
    "print(result)"
   ]
  },
  {
   "cell_type": "code",
   "execution_count": 8,
   "id": "11d16c63-3374-4666-a825-a081a7e13f62",
   "metadata": {},
   "outputs": [
    {
     "ename": "SyntaxError",
     "evalue": "cannot assign to literal here. Maybe you meant '==' instead of '='? (2971251295.py, line 1)",
     "output_type": "error",
     "traceback": [
      "\u001b[0;36m  Cell \u001b[0;32mIn[8], line 1\u001b[0;36m\u001b[0m\n\u001b[0;31m    100 = num1 + num2\u001b[0m\n\u001b[0m    ^\u001b[0m\n\u001b[0;31mSyntaxError\u001b[0m\u001b[0;31m:\u001b[0m cannot assign to literal here. Maybe you meant '==' instead of '='?\n"
     ]
    }
   ],
   "source": [
    "100 = num1 + num2"
   ]
  },
  {
   "cell_type": "code",
   "execution_count": 9,
   "id": "db56e8f7-bb87-4325-b85a-235bce8e500b",
   "metadata": {},
   "outputs": [
    {
     "ename": "SyntaxError",
     "evalue": "cannot assign to expression here. Maybe you meant '==' instead of '='? (127935677.py, line 1)",
     "output_type": "error",
     "traceback": [
      "\u001b[0;36m  Cell \u001b[0;32mIn[9], line 1\u001b[0;36m\u001b[0m\n\u001b[0;31m    num1 + num2 = result\u001b[0m\n\u001b[0m    ^\u001b[0m\n\u001b[0;31mSyntaxError\u001b[0m\u001b[0;31m:\u001b[0m cannot assign to expression here. Maybe you meant '==' instead of '='?\n"
     ]
    }
   ],
   "source": [
    "num1 + num2 = result"
   ]
  },
  {
   "cell_type": "code",
   "execution_count": 7,
   "id": "c0c746fe-b793-4775-9540-7a2091deea06",
   "metadata": {},
   "outputs": [
    {
     "name": "stdout",
     "output_type": "stream",
     "text": [
      "100 - 50 = 50\n"
     ]
    }
   ],
   "source": [
    "num3 = 100\n",
    "num4 = 50\n",
    "result = num3 - num4\n",
    "print(num3,\"-\",num4,\"=\",result)"
   ]
  },
  {
   "cell_type": "code",
   "execution_count": 8,
   "id": "d204c85a-36cc-4b36-9fb8-b64651cf3a59",
   "metadata": {},
   "outputs": [
    {
     "name": "stdout",
     "output_type": "stream",
     "text": [
      "100 x 50 = 5000\n"
     ]
    }
   ],
   "source": [
    "result = num3 * num4\n",
    "print(num3,\"x\",num4,\"=\",result)"
   ]
  },
  {
   "cell_type": "code",
   "execution_count": 9,
   "id": "cc3b6512-cff8-4bbc-bc85-40b1216e8fa3",
   "metadata": {},
   "outputs": [
    {
     "name": "stdout",
     "output_type": "stream",
     "text": [
      "100 ➗ 50 = 2.0\n"
     ]
    }
   ],
   "source": [
    "result = num3 / num4 \n",
    "print(num3,\"➗\",num4,\"=\",result)"
   ]
  },
  {
   "cell_type": "code",
   "execution_count": 11,
   "id": "43c331a3-836e-4a30-9a1d-c91327da10aa",
   "metadata": {},
   "outputs": [
    {
     "name": "stdout",
     "output_type": "stream",
     "text": [
      "난생처음파이썬\n"
     ]
    }
   ],
   "source": [
    "str1 = \"난생처음\"\n",
    "str2 = \"파이썬\"\n",
    "result = str1 + str2\n",
    "print(result)"
   ]
  },
  {
   "cell_type": "code",
   "execution_count": 12,
   "id": "4bda4346-5a4f-46aa-a96f-2b0ee07e1157",
   "metadata": {},
   "outputs": [
    {
     "ename": "TypeError",
     "evalue": "unsupported operand type(s) for -: 'str' and 'str'",
     "output_type": "error",
     "traceback": [
      "\u001b[0;31m---------------------------------------------------------------------------\u001b[0m",
      "\u001b[0;31mTypeError\u001b[0m                                 Traceback (most recent call last)",
      "Cell \u001b[0;32mIn[12], line 1\u001b[0m\n\u001b[0;32m----> 1\u001b[0m result \u001b[38;5;241m=\u001b[39m str1 \u001b[38;5;241m-\u001b[39m str2\n",
      "\u001b[0;31mTypeError\u001b[0m: unsupported operand type(s) for -: 'str' and 'str'"
     ]
    }
   ],
   "source": [
    "result = str1 - str2"
   ]
  },
  {
   "cell_type": "code",
   "execution_count": 13,
   "id": "401a4a25-2147-487c-bde4-cf4263ae1489",
   "metadata": {},
   "outputs": [
    {
     "name": "stdout",
     "output_type": "stream",
     "text": [
      "100 + 200 = 300\n",
      "100 - 200 = -100\n",
      "100 * 200 = 20000\n",
      "100 / 200 = 0.5\n"
     ]
    }
   ],
   "source": [
    "num1 = 100\n",
    "num2 = 200\n",
    "\n",
    "\n",
    "reselt = num1 + num2\n",
    "reselt1 = num1 - num2\n",
    "reselt2 = num1 * num2\n",
    "reselt3 = num1 / num2\n",
    "\n",
    "print(num1,\"+\",num2,\"=\", reselt)\n",
    "print(num1,\"-\",num2,\"=\", reselt1)\n",
    "print(num1,\"*\",num2,\"=\", reselt2)\n",
    "print(num1,\"/\",num2,\"=\", reselt3)"
   ]
  },
  {
   "cell_type": "markdown",
   "id": "bb4c9282-e290-4d2d-a2f8-d0ed33f59969",
   "metadata": {},
   "source": [
    "333=100\n",
    "숫자로만 변수생성시 오류발생\n",
    "3abcd=200\n",
    "숫자로 시작시에도 오류발생\n"
   ]
  },
  {
   "cell_type": "markdown",
   "id": "4e8a49e5-4e2d-4663-80d2-91154dea3503",
   "metadata": {},
   "source": [
    "input_number = 100\n",
    "_number = 200\n",
    "_data_=300\n",
    "_ _mt_ _= 400\n",
    "_1234\n",
    "변수명에는 언더바(_)사용불가"
   ]
  },
  {
   "cell_type": "markdown",
   "id": "316a1726-08f7-4360-abdd-e1d72604f62d",
   "metadata": {},
   "source": [
    "mynumber = 100\n",
    "MYNUMBER = 200\n",
    "변수명은 대소문자를 구별합니다"
   ]
  },
  {
   "cell_type": "markdown",
   "id": "413be743-614d-44af-9be8-0f3d9318946f",
   "metadata": {},
   "source": [
    "if = 100 X\n",
    "변수명에 예약어를 사용할 수 없다\n",
    "예약어는 이미 파이썬 문법에 정의되어 사용되는 단어를 의미합니다\n",
    "if,elif,else문이 예약어입니다 "
   ]
  },
  {
   "cell_type": "markdown",
   "id": "3ff1d52a-18e6-40d7-8a5e-8ef4130a5836",
   "metadata": {},
   "source": [
    "좋은 변수명은\n",
    "a = 100\n",
    "bbb = 200\n",
    "asdf = 300\n",
    "AA = 400\n",
    "변수의 이름은 변수명만 보고도 변수의 의미를 파익할수 있는것이 좋은 변수명입니다\n",
    "그렇다고\n",
    "first_number_of_input_values = 100\n",
    "second_number_of_input_values = 200\n",
    "변수명이 파악되더라도 너무 길면 코드를 입력하기 불편할수 있습니다"
   ]
  },
  {
   "cell_type": "code",
   "execution_count": 14,
   "id": "eff50192-ce7e-4b84-921d-a13b05445696",
   "metadata": {},
   "outputs": [
    {
     "name": "stdin",
     "output_type": "stream",
     "text": [
      " 100\n"
     ]
    },
    {
     "data": {
      "text/plain": [
       "'100'"
      ]
     },
     "execution_count": 14,
     "metadata": {},
     "output_type": "execute_result"
    }
   ],
   "source": [
    "input()"
   ]
  },
  {
   "cell_type": "code",
   "execution_count": 15,
   "id": "201ff49b-02f5-459a-bf39-441093c0daed",
   "metadata": {},
   "outputs": [
    {
     "name": "stdin",
     "output_type": "stream",
     "text": [
      " 100\n"
     ]
    }
   ],
   "source": [
    "num1 = input()"
   ]
  },
  {
   "cell_type": "code",
   "execution_count": 16,
   "id": "45f10a2e-800e-4abb-beb5-08ae1833d51b",
   "metadata": {},
   "outputs": [
    {
     "name": "stdin",
     "output_type": "stream",
     "text": [
      "숫자==> 200\n"
     ]
    }
   ],
   "source": [
    "num2 = input(\"숫자==>\")"
   ]
  },
  {
   "cell_type": "markdown",
   "id": "7aafa4c0-ba9a-4050-a5b6-b0232f03047d",
   "metadata": {},
   "source": [
    "reselt1 = num1 + num2\n",
    "아무것도 출력되지 않음"
   ]
  },
  {
   "cell_type": "code",
   "execution_count": 22,
   "id": "dae46d23-6224-4fe2-b12d-449ca14aec53",
   "metadata": {},
   "outputs": [
    {
     "name": "stdout",
     "output_type": "stream",
     "text": [
      "100200\n"
     ]
    }
   ],
   "source": [
    "reselt1 = num1 + num2qq\n",
    "print(reselt1)"
   ]
  },
  {
   "cell_type": "code",
   "execution_count": 23,
   "id": "8c468227-4d0e-4b63-96e7-7c3b52c6c2d1",
   "metadata": {},
   "outputs": [
    {
     "data": {
      "text/plain": [
       "100"
      ]
     },
     "execution_count": 23,
     "metadata": {},
     "output_type": "execute_result"
    }
   ],
   "source": [
    "int(\"100\")"
   ]
  },
  {
   "cell_type": "code",
   "execution_count": 24,
   "id": "02ef1f6d-f8cf-4f2a-b7db-33119edc3586",
   "metadata": {},
   "outputs": [
    {
     "data": {
      "text/plain": [
       "100"
      ]
     },
     "execution_count": 24,
     "metadata": {},
     "output_type": "execute_result"
    }
   ],
   "source": [
    "int(100.12)"
   ]
  },
  {
   "cell_type": "code",
   "execution_count": 28,
   "id": "79d0253e-c65e-455d-a34d-7b6138174dd8",
   "metadata": {},
   "outputs": [
    {
     "name": "stdin",
     "output_type": "stream",
     "text": [
      "숫자1==> 100\n",
      "숫자2==> 200\n"
     ]
    },
    {
     "name": "stdout",
     "output_type": "stream",
     "text": [
      "300\n"
     ]
    }
   ],
   "source": [
    "num1 = int(input(\"숫자1==>\"))\n",
    "num2 = int(input(\"숫자2==>\"))\n",
    "result = num1 + num2\n",
    "print(result)"
   ]
  },
  {
   "cell_type": "code",
   "execution_count": 29,
   "id": "a2346cb1-cab3-49f8-b56b-5b52a8201222",
   "metadata": {},
   "outputs": [
    {
     "name": "stdin",
     "output_type": "stream",
     "text": [
      "이름 ==> 심재훈\n",
      "전화번호 ==> 010-1234-1234\n"
     ]
    },
    {
     "name": "stdout",
     "output_type": "stream",
     "text": [
      "제 이름은 심재훈 이고 연락처는 010-1234-1234 입니다\n"
     ]
    }
   ],
   "source": [
    "username = input(\"이름 ==>\")\n",
    "userphon = input(\"전화번호 ==>\")\n",
    "print(\"제 이름은\",username,\"이고\",\"연락처는\",userphon,\"입니다\")"
   ]
  },
  {
   "cell_type": "code",
   "execution_count": 32,
   "id": "be1be569-caa9-406a-8b85-77e904fdd351",
   "metadata": {},
   "outputs": [
    {
     "name": "stdout",
     "output_type": "stream",
     "text": [
      "##택배를 보내기 위한 정보를 입력하세요\n"
     ]
    },
    {
     "name": "stdin",
     "output_type": "stream",
     "text": [
      "받는사람 : 심제훈\n",
      "주소 : 경기도 안양시 만안구\n",
      "무게(g) : 599\n"
     ]
    },
    {
     "name": "stdout",
     "output_type": "stream",
     "text": [
      "**받는 사람 ==> 심제훈\n",
      "**주소 => 경기도 안양시 만안구\n",
      "** 배송비 ==> 2995 원\n"
     ]
    }
   ],
   "source": [
    "print(\"##택배를 보내기 위한 정보를 입력하세요\")\n",
    "personname = input(\"받는사람 :\")\n",
    "personaddr = input(\"주소 :\")\n",
    "weight = int(input(\"무게(g) :\"))\n",
    "print(\"**받는 사람 ==>\", personname)\n",
    "print(\"**주소 =>\",personaddr)\n",
    "print(\"** 배송비 ==>\",weight*5,\"원\")"
   ]
  },
  {
   "cell_type": "code",
   "execution_count": 33,
   "id": "9db4fb29-d831-483b-8b7d-65258a627dee",
   "metadata": {},
   "outputs": [
    {
     "name": "stdin",
     "output_type": "stream",
     "text": [
      "첫 번째 숫자를 입력하세요:  300\n",
      "두 번째 숫자를 입력하세요:  500\n"
     ]
    },
    {
     "name": "stdout",
     "output_type": "stream",
     "text": [
      "300 + 500 = 800\n",
      "300 - 500 = -200\n",
      "300 * 500 = 150000\n",
      "300 / 500 = 0.6\n",
      "300 % 500 = 300\n",
      "300 // 500 = 0\n"
     ]
    }
   ],
   "source": [
    "num1 = int(input(\"첫 번째 숫자를 입력하세요: \"))\n",
    "num2 = int(input(\"두 번째 숫자를 입력하세요: \"))\n",
    "\n",
    "\n",
    "reselt = num1 + num2\n",
    "reselt1 = num1 - num2\n",
    "reselt2 = num1 * num2\n",
    "reselt3 = num1 / num2\n",
    "reselt4 = num1 % num2\n",
    "reselt5 = num1 // num2\n",
    "\n",
    "print(num1 ,\"+\" ,num2 ,\"=\", reselt)\n",
    "print(num1 ,\"-\" ,num2 ,\"=\", reselt1)\n",
    "print(num1 ,\"*\" ,num2 ,\"=\", reselt2)\n",
    "print(num1 ,\"/\"  ,num2,\"=\", reselt3)\n",
    "print(num1 ,\"%\"  ,num2,\"=\", reselt4)\n",
    "print(num1 ,\"//\" ,num2,\"=\", reselt5)"
   ]
  },
  {
   "cell_type": "code",
   "execution_count": null,
   "id": "37888fe9-31de-417e-b9a0-1192e526c9d0",
   "metadata": {},
   "outputs": [],
   "source": []
  }
 ],
 "metadata": {
  "kernelspec": {
   "display_name": "Python [conda env:base] *",
   "language": "python",
   "name": "conda-base-py"
  },
  "language_info": {
   "codemirror_mode": {
    "name": "ipython",
    "version": 3
   },
   "file_extension": ".py",
   "mimetype": "text/x-python",
   "name": "python",
   "nbconvert_exporter": "python",
   "pygments_lexer": "ipython3",
   "version": "3.12.2"
  }
 },
 "nbformat": 4,
 "nbformat_minor": 5
}
